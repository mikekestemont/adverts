{
 "cells": [
  {
   "cell_type": "markdown",
   "id": "pending-nicaragua",
   "metadata": {},
   "source": [
    "# 1. Modifiers and objects: agreement"
   ]
  },
  {
   "cell_type": "code",
   "execution_count": 1,
   "id": "studied-peeing",
   "metadata": {},
   "outputs": [],
   "source": [
    "import json\n",
    "\n",
    "import pandas as pd\n",
    "\n",
    "from sklearn.metrics import cohen_kappa_score\n",
    "from sklearn.preprocessing import LabelEncoder\n",
    "from sklearn.metrics import confusion_matrix"
   ]
  },
  {
   "cell_type": "markdown",
   "id": "aging-cancellation",
   "metadata": {},
   "source": [
    "## Interannotator agreement"
   ]
  },
  {
   "cell_type": "markdown",
   "id": "genuine-lotus",
   "metadata": {},
   "source": [
    "On the basis of the existing secondary literature (in history and linguistics), we manually defined two sets of commonly occuring objects and their (premodifiers) in a normalized spelling of the headword. Two annotators each independently categorized these sets. The modifiers were categorized as \"descriptive\" or \"evaluative\"; the objects were tagged along five classes, which reflect current debates about these artefacts and aimed for a reasonable distribution of the objects over these classes."
   ]
  },
  {
   "cell_type": "markdown",
   "id": "owned-equivalent",
   "metadata": {},
   "source": [
    "### Modifiers: agreement"
   ]
  },
  {
   "cell_type": "markdown",
   "id": "resident-comparative",
   "metadata": {},
   "source": [
    "The first independent categorization of the modifiers was provided by ADM:"
   ]
  },
  {
   "cell_type": "code",
   "execution_count": 2,
   "id": "unknown-henry",
   "metadata": {},
   "outputs": [],
   "source": [
    "mod_df = pd.read_excel('../annotations/mods_ADM.xlsx')\n",
    "modifiers = sorted(set(mod_df[mod_df['modifier'] == 'MOD']['headword']))"
   ]
  },
  {
   "cell_type": "markdown",
   "id": "reverse-liechtenstein",
   "metadata": {},
   "source": [
    "The second independent categorization of the modifiers was provided by LF:"
   ]
  },
  {
   "cell_type": "code",
   "execution_count": 3,
   "id": "parallel-savage",
   "metadata": {},
   "outputs": [
    {
     "data": {
      "text/html": [
       "<div>\n",
       "<style scoped>\n",
       "    .dataframe tbody tr th:only-of-type {\n",
       "        vertical-align: middle;\n",
       "    }\n",
       "\n",
       "    .dataframe tbody tr th {\n",
       "        vertical-align: top;\n",
       "    }\n",
       "\n",
       "    .dataframe thead th {\n",
       "        text-align: right;\n",
       "    }\n",
       "</style>\n",
       "<table border=\"1\" class=\"dataframe\">\n",
       "  <thead>\n",
       "    <tr style=\"text-align: right;\">\n",
       "      <th></th>\n",
       "      <th>headword</th>\n",
       "      <th>modifier</th>\n",
       "      <th>E/D</th>\n",
       "      <th>variants</th>\n",
       "    </tr>\n",
       "  </thead>\n",
       "  <tbody>\n",
       "    <tr>\n",
       "      <th>0</th>\n",
       "      <td>adapted</td>\n",
       "      <td>MOD</td>\n",
       "      <td>D</td>\n",
       "      <td>adapted (90) | adanted (2) | -adapted (1) | ad...</td>\n",
       "    </tr>\n",
       "    <tr>\n",
       "      <th>1</th>\n",
       "      <td>admired</td>\n",
       "      <td>MOD</td>\n",
       "      <td>E</td>\n",
       "      <td>admired (43) | admited (6) | admitad (1) | dmi...</td>\n",
       "    </tr>\n",
       "    <tr>\n",
       "      <th>2</th>\n",
       "      <td>airy</td>\n",
       "      <td>MOD</td>\n",
       "      <td>E</td>\n",
       "      <td>airy (185)</td>\n",
       "    </tr>\n",
       "    <tr>\n",
       "      <th>3</th>\n",
       "      <td>ancient</td>\n",
       "      <td>MOD</td>\n",
       "      <td>E</td>\n",
       "      <td>ancient (41) | antient (22) | anclent (6) | an...</td>\n",
       "    </tr>\n",
       "    <tr>\n",
       "      <th>4</th>\n",
       "      <td>antique</td>\n",
       "      <td>MOD</td>\n",
       "      <td>E</td>\n",
       "      <td>antique (53) | antiqee (1) | pantique (1) | an...</td>\n",
       "    </tr>\n",
       "    <tr>\n",
       "      <th>...</th>\n",
       "      <td>...</td>\n",
       "      <td>...</td>\n",
       "      <td>...</td>\n",
       "      <td>...</td>\n",
       "    </tr>\n",
       "    <tr>\n",
       "      <th>277</th>\n",
       "      <td>worsted</td>\n",
       "      <td>MOD</td>\n",
       "      <td>D</td>\n",
       "      <td>worfted (72) | worfted- (15) | worftead (9) | ...</td>\n",
       "    </tr>\n",
       "    <tr>\n",
       "      <th>278</th>\n",
       "      <td>worsted-damask</td>\n",
       "      <td>MOD</td>\n",
       "      <td>D</td>\n",
       "      <td>worfted-damafk (79) | werfted-damafk (2) | wor...</td>\n",
       "    </tr>\n",
       "    <tr>\n",
       "      <th>279</th>\n",
       "      <td>writing</td>\n",
       "      <td>MOD</td>\n",
       "      <td>D</td>\n",
       "      <td>writing (127) | wrlting (15) | writing- (6) | ...</td>\n",
       "    </tr>\n",
       "    <tr>\n",
       "      <th>280</th>\n",
       "      <td>wrought</td>\n",
       "      <td>MOD</td>\n",
       "      <td>D</td>\n",
       "      <td>wrought (46) | wroughe (1)</td>\n",
       "    </tr>\n",
       "    <tr>\n",
       "      <th>281</th>\n",
       "      <td>yellow</td>\n",
       "      <td>MOD</td>\n",
       "      <td>D</td>\n",
       "      <td>yellow (45) | vellow (13) | yellew (2) | rello...</td>\n",
       "    </tr>\n",
       "  </tbody>\n",
       "</table>\n",
       "<p>282 rows × 4 columns</p>\n",
       "</div>"
      ],
      "text/plain": [
       "           headword modifier E/D  \\\n",
       "0           adapted      MOD   D   \n",
       "1           admired      MOD   E   \n",
       "2              airy      MOD   E   \n",
       "3           ancient      MOD   E   \n",
       "4           antique      MOD   E   \n",
       "..              ...      ...  ..   \n",
       "277         worsted      MOD   D   \n",
       "278  worsted-damask      MOD   D   \n",
       "279         writing      MOD   D   \n",
       "280         wrought      MOD   D   \n",
       "281          yellow      MOD   D   \n",
       "\n",
       "                                              variants  \n",
       "0    adapted (90) | adanted (2) | -adapted (1) | ad...  \n",
       "1    admired (43) | admited (6) | admitad (1) | dmi...  \n",
       "2                                           airy (185)  \n",
       "3    ancient (41) | antient (22) | anclent (6) | an...  \n",
       "4    antique (53) | antiqee (1) | pantique (1) | an...  \n",
       "..                                                 ...  \n",
       "277  worfted (72) | worfted- (15) | worftead (9) | ...  \n",
       "278  worfted-damafk (79) | werfted-damafk (2) | wor...  \n",
       "279  writing (127) | wrlting (15) | writing- (6) | ...  \n",
       "280                         wrought (46) | wroughe (1)  \n",
       "281  yellow (45) | vellow (13) | yellew (2) | rello...  \n",
       "\n",
       "[282 rows x 4 columns]"
      ]
     },
     "execution_count": 3,
     "metadata": {},
     "output_type": "execute_result"
    }
   ],
   "source": [
    "mod_df2 = pd.read_excel('../annotations/mods_LF.xlsx')\n",
    "mod_df2"
   ]
  },
  {
   "cell_type": "markdown",
   "id": "iraqi-government",
   "metadata": {},
   "source": [
    "The modifiers initially counted 282 distinct items:"
   ]
  },
  {
   "cell_type": "code",
   "execution_count": 4,
   "id": "variable-davis",
   "metadata": {},
   "outputs": [
    {
     "name": "stdout",
     "output_type": "stream",
     "text": [
      "282\n",
      "True\n"
     ]
    }
   ],
   "source": [
    "print(len(mod_df))\n",
    "print(len(mod_df) == len(mod_df2))"
   ]
  },
  {
   "cell_type": "markdown",
   "id": "norwegian-brunei",
   "metadata": {},
   "source": [
    "The established Cohen $\\kappa$ score returned for these class labels is:"
   ]
  },
  {
   "cell_type": "code",
   "execution_count": 5,
   "id": "monthly-inspection",
   "metadata": {
    "scrolled": true
   },
   "outputs": [
    {
     "name": "stdout",
     "output_type": "stream",
     "text": [
      "kappa: 0.8407293851863805\n"
     ]
    }
   ],
   "source": [
    "print('kappa:', cohen_kappa_score(mod_df['E/D'], mod_df2['E/D']))"
   ]
  },
  {
   "cell_type": "markdown",
   "id": "tutorial-warrior",
   "metadata": {},
   "source": [
    "This $\\kappa$ statistic is a scalar between -1 and 1: larger positive values imply a strong agreement but values closer to zero (or negatives scores) means that the agreement might be due to chance. In this case, agreement can at least be considered as \"strong\" [[ref](https://www.ncbi.nlm.nih.gov/pmc/articles/PMC3900052/#:~:text=Cohen%20suggested%20the%20Kappa%20result,1.00%20as%20almost%20perfect%20agreement.)]."
   ]
  },
  {
   "cell_type": "code",
   "execution_count": 6,
   "id": "proved-biology",
   "metadata": {},
   "outputs": [],
   "source": [
    "enc = LabelEncoder().fit(mod_df['E/D'])\n",
    "A_int = list(enc.transform(mod_df['E/D']))\n",
    "B_int = list(enc.transform(mod_df2['E/D']))\n",
    "cm = confusion_matrix(A_int, B_int)\n",
    "cf = pd.DataFrame(cm, columns=enc.classes_, index=enc.classes_)"
   ]
  },
  {
   "cell_type": "markdown",
   "id": "freelance-optimization",
   "metadata": {},
   "source": [
    "We write this to LateX for the paper:"
   ]
  },
  {
   "cell_type": "code",
   "execution_count": 7,
   "id": "tribal-apartment",
   "metadata": {},
   "outputs": [
    {
     "name": "stdout",
     "output_type": "stream",
     "text": [
      "\\begin{tabular}{lrr}\n",
      "\\toprule\n",
      "{} &    D &   E \\\\\n",
      "\\midrule\n",
      "D &  167 &   4 \\\\\n",
      "E &   17 &  94 \\\\\n",
      "\\bottomrule\n",
      "\\end{tabular}\n",
      "\n"
     ]
    }
   ],
   "source": [
    "print(cf.to_latex())"
   ]
  },
  {
   "cell_type": "markdown",
   "id": "union-hostel",
   "metadata": {},
   "source": [
    "As is clear from the confusion matrix, there was relatively more disagreement regarding the evaluative class (which makes sense). During discussions in the adjudication phase, the annotators attempted to resolve instances of disagreement through qualitative discussions. This led to the following distribution of evaluative and descriptive items, with a considerable skew towards the \"descriptive\" modifers:"
   ]
  },
  {
   "cell_type": "code",
   "execution_count": 8,
   "id": "reverse-providence",
   "metadata": {},
   "outputs": [
    {
     "data": {
      "text/plain": [
       "D    182\n",
       "E    100\n",
       "Name: DEF, dtype: int64"
      ]
     },
     "execution_count": 8,
     "metadata": {},
     "output_type": "execute_result"
    }
   ],
   "source": [
    "mod_df = pd.read_excel('../annotations/mods_ADJ.xlsx')\n",
    "mod_df['DEF'].value_counts()"
   ]
  },
  {
   "cell_type": "code",
   "execution_count": 9,
   "id": "close-flush",
   "metadata": {},
   "outputs": [
    {
     "name": "stdout",
     "output_type": "stream",
     "text": [
      "\\item[D] blue - rosewood - window - drawing - glass - ebony - lisbon - moreen - couch - brussels - persian - chintz - breakfast - cheney - damask - sleeping - crimson - chelsea - english - hollands - cabriole - carved - panned - four-stall - dresden - french - parlour - brass - spanish - double - indigo - upholftery - drinking - fowling - card - dressing - silk - sconces - mohair - japan - winged - pembroke - kitchen - brilliant - check - black - muslin - dimity - built - pewter - toned - inlaid - eight - musical - elbow - italian - copper - camblet - miscellancous - jamaica - wrought - four-post - household - writing - madeira - arched - diamond - wearing - general - bay - cotton - dining - satin - servants - gilt - oriental - bowed - feather - red - marseilles - wood - sundry - serges - singular - coloured - private - various - domestic - german - several - bronze - variety - copyhold - double-key'd - brick-built - grey - leasehold - mahogany - metal - flemish - golden- - harrateen - circular - nag-tail - russia - eating - four - royal - stained - irish - woollen - stage - enamelled - cornices - looking - standing - worsted - glazed - scotch - womens - green - steel - draught - japanned - chinese - plated - singularly - white - goose - sedan - foreign - iron - public - snuff - india - detached - bordered - velvet - coach- - nankeen - billiard - broad - pair - silver - calico - housekeepers - turky - field - livery - pearl - yellow - repair - wainscot - dwelling - single - pier - horse-hair - brown - furnished - dutch - ornamental - library - walnut-tree - adapted - complete - chestnut - genoa - walled - marble - attached - carpeting - culinary - tin - farming - shaving - printed - three-stall - worsted-damask - oval - eight-day - wilton - stone\n",
      "\\item[E] fine - handsome - principal - lofty - arable - spacious - suitable - grand - desirable - truly - exceeding - prime - neatly - new-built - substantial - improvable - quality - fancy - scarce - neat - curious - select - splendid - admired - light - requisite - common - extensive - family - finished - clean - rich - superb - lady's - numerous - seasoned - new - well-bred - celebrated - genteel - pleasure - genuine - exceedingly - remarkable - larger - narrow - ladies - long - convenience - pleasing - well-chosen - fine-toned - great - antique - little - roomy - proper - large - masters - modern - very - noble - strong - well-built - improved - taste - beautiful - excellent - valuable - eligible - airy - stout - compact - easy - clever - cheerful - exquisite - comfortable - necessary - fashionable - condition - gentleman's - original - old - superfine - plain - ancient - magnificent - important - superior - eminent - useful - convenient - highly - commodious - richly - elegant - capital - much-improved - fitted\n"
     ]
    }
   ],
   "source": [
    "for gr, grdf in mod_df.groupby('DEF'):\n",
    "    print(f'\\item[{gr}] ' + ' - '.join(set(grdf['headword'])))"
   ]
  },
  {
   "cell_type": "markdown",
   "id": "amateur-cornell",
   "metadata": {},
   "source": [
    "These are the modifiers that we will work with below:"
   ]
  },
  {
   "cell_type": "code",
   "execution_count": 10,
   "id": "involved-greene",
   "metadata": {},
   "outputs": [
    {
     "name": "stdout",
     "output_type": "stream",
     "text": [
      "modifiers: adapted - admired - airy - ancient - antique - arable - arched - attached - bay - beautiful - billiard - black - blue - bordered - bowed [...]\n"
     ]
    }
   ],
   "source": [
    "print('modifiers:', ' - '.join(modifiers[:15]) + ' [...]')"
   ]
  },
  {
   "cell_type": "code",
   "execution_count": 11,
   "id": "impressed-intermediate",
   "metadata": {},
   "outputs": [
    {
     "name": "stdout",
     "output_type": "stream",
     "text": [
      "modifiers: adapted - admired - airy - ancient - antique - arable - arched - attached - bay - beautiful - billiard - black - blue - bordered - bowed - brass - breakfast - brick-built - brilliant - broad - bronze - brown - brussels - built - cabriole - calico - camblet - capital - card - carpeting - carved - celebrated - check - cheerful - chelsea - cheney - chestnut - chinese - chintz - circular - clean - clever - coach- - coloured - comfortable - commodious - common - compact - complete - condition - convenience - convenient - copper - copyhold - cornices - cotton - couch - crimson - culinary - curious - damask - desirable - detached - diamond - dimity - dining - domestic - double - double-key'd - draught - drawing - dresden - dressing - drinking - dutch - dwelling - easy - eating - ebony - eight - eight-day - elbow - elegant - eligible - eminent - enamelled - english - exceeding - exceedingly - excellent - exquisite - extensive - family - fancy - farming - fashionable - feather - field - fine - fine-toned - finished - fitted - flemish - foreign - four - four-post - four-stall - fowling - french - furnished - general - genoa - genteel - gentleman's - genuine - german - gilt - glass - glazed - golden- - goose - grand - great - green - grey - handsome - harrateen - highly - hollands - horse-hair - household - housekeepers - important - improvable - improved - india - indigo - inlaid - irish - iron - italian - jamaica - japan - japanned - kitchen - ladies - lady's - large - larger - leasehold - library - light - lisbon - little - livery - lofty - long - looking - madeira - magnificent - mahogany - marble - marseilles - masters - metal - miscellancous - modern - mohair - moreen - much-improved - musical - muslin - nag-tail - nankeen - narrow - neat - neatly - necessary - new - new-built - noble - numerous - old - oriental - original - ornamental - oval - pair - panned - parlour - pearl - pembroke - persian - pewter - pier - plain - plated - pleasing - pleasure - prime - principal - printed - private - proper - public - quality - red - remarkable - repair - requisite - rich - richly - roomy - rosewood - royal - russia - satin - scarce - sconces - scotch - seasoned - sedan - select - serges - servants - several - shaving - silk - silver - single - singular - singularly - sleeping - snuff - spacious - spanish - splendid - stage - stained - standing - steel - stone - stout - strong - substantial - suitable - sundry - superb - superfine - superior - taste - three-stall - tin - toned - truly - turky - upholftery - useful - valuable - variety - various - velvet - very - wainscot - walled - walnut-tree - wearing - well-bred - well-built - well-chosen - white - wilton - window - winged - womens - wood - woollen - worsted - worsted-damask - writing - wrought - yellow\n"
     ]
    }
   ],
   "source": [
    "print('modifiers:', ' - '.join(modifiers))"
   ]
  },
  {
   "cell_type": "markdown",
   "id": "competent-supplement",
   "metadata": {},
   "source": [
    "### Objects: agreement"
   ]
  },
  {
   "cell_type": "markdown",
   "id": "proved-merchandise",
   "metadata": {},
   "source": [
    "We applied the same procedure to the object classes, which were of an economic nature, rather than linguistic categories. 139 distinct words were considered.\n",
    "\n",
    "The second annotator (BS) was a different one than the second annotator in the previous task, because of the specific historic expertise required in completing this task."
   ]
  },
  {
   "cell_type": "code",
   "execution_count": 12,
   "id": "respective-creek",
   "metadata": {},
   "outputs": [
    {
     "data": {
      "text/html": [
       "<div>\n",
       "<style scoped>\n",
       "    .dataframe tbody tr th:only-of-type {\n",
       "        vertical-align: middle;\n",
       "    }\n",
       "\n",
       "    .dataframe tbody tr th {\n",
       "        vertical-align: top;\n",
       "    }\n",
       "\n",
       "    .dataframe thead th {\n",
       "        text-align: right;\n",
       "    }\n",
       "</style>\n",
       "<table border=\"1\" class=\"dataframe\">\n",
       "  <thead>\n",
       "    <tr style=\"text-align: right;\">\n",
       "      <th></th>\n",
       "      <th>headword</th>\n",
       "      <th>modifier</th>\n",
       "      <th>category</th>\n",
       "      <th>variants</th>\n",
       "    </tr>\n",
       "  </thead>\n",
       "  <tbody>\n",
       "    <tr>\n",
       "      <th>0</th>\n",
       "      <td>apartment</td>\n",
       "      <td>OBJ</td>\n",
       "      <td>real estate</td>\n",
       "      <td>apartments (106) | aparsments (1) | apurtments...</td>\n",
       "    </tr>\n",
       "    <tr>\n",
       "      <th>1</th>\n",
       "      <td>assortment</td>\n",
       "      <td>OBJ</td>\n",
       "      <td>no</td>\n",
       "      <td>assortment (76) | affurtment (3) | assoriment ...</td>\n",
       "    </tr>\n",
       "    <tr>\n",
       "      <th>2</th>\n",
       "      <td>attic</td>\n",
       "      <td>OBJ</td>\n",
       "      <td>real estate</td>\n",
       "      <td>atties (45) | attie (11) | attles (6) | attics...</td>\n",
       "    </tr>\n",
       "    <tr>\n",
       "      <th>3</th>\n",
       "      <td>barrel</td>\n",
       "      <td>OBJ</td>\n",
       "      <td>appliances/utensils</td>\n",
       "      <td>barrel (88) | barrels (25) | bartel (4) | barr...</td>\n",
       "    </tr>\n",
       "    <tr>\n",
       "      <th>4</th>\n",
       "      <td>bath</td>\n",
       "      <td>OBJ</td>\n",
       "      <td>real estate</td>\n",
       "      <td>bath (280) | bath- (6) | bate (1) | baixe (1)</td>\n",
       "    </tr>\n",
       "    <tr>\n",
       "      <th>...</th>\n",
       "      <td>...</td>\n",
       "      <td>...</td>\n",
       "      <td>...</td>\n",
       "      <td>...</td>\n",
       "    </tr>\n",
       "    <tr>\n",
       "      <th>134</th>\n",
       "      <td>vault</td>\n",
       "      <td>OBJ</td>\n",
       "      <td>no</td>\n",
       "      <td>vaults (93) | aults (19) | vauits (5) | vault ...</td>\n",
       "    </tr>\n",
       "    <tr>\n",
       "      <th>135</th>\n",
       "      <td>villa</td>\n",
       "      <td>OBJ</td>\n",
       "      <td>real estate</td>\n",
       "      <td>villa (277) | vilia (3) | vhla (3) | villan (2...</td>\n",
       "    </tr>\n",
       "    <tr>\n",
       "      <th>136</th>\n",
       "      <td>wardrobe</td>\n",
       "      <td>OBJ</td>\n",
       "      <td>furniture</td>\n",
       "      <td>wardrubes (28) | wardrabes (25) | wardrube (19...</td>\n",
       "    </tr>\n",
       "    <tr>\n",
       "      <th>137</th>\n",
       "      <td>warehouse</td>\n",
       "      <td>OBJ</td>\n",
       "      <td>real estate</td>\n",
       "      <td>warehoufes (139) | warehoufe (123) | warehouse...</td>\n",
       "    </tr>\n",
       "    <tr>\n",
       "      <th>138</th>\n",
       "      <td>wash-house</td>\n",
       "      <td>OBJ</td>\n",
       "      <td>real estate</td>\n",
       "      <td>wafh-houfe (48) | wagh-house (11) | wash-house...</td>\n",
       "    </tr>\n",
       "  </tbody>\n",
       "</table>\n",
       "<p>139 rows × 4 columns</p>\n",
       "</div>"
      ],
      "text/plain": [
       "       headword modifier             category  \\\n",
       "0     apartment      OBJ          real estate   \n",
       "1    assortment      OBJ                   no   \n",
       "2         attic      OBJ          real estate   \n",
       "3        barrel      OBJ  appliances/utensils   \n",
       "4          bath      OBJ          real estate   \n",
       "..          ...      ...                  ...   \n",
       "134       vault      OBJ                   no   \n",
       "135       villa      OBJ          real estate   \n",
       "136    wardrobe      OBJ            furniture   \n",
       "137   warehouse      OBJ          real estate   \n",
       "138  wash-house      OBJ          real estate   \n",
       "\n",
       "                                              variants  \n",
       "0    apartments (106) | aparsments (1) | apurtments...  \n",
       "1    assortment (76) | affurtment (3) | assoriment ...  \n",
       "2    atties (45) | attie (11) | attles (6) | attics...  \n",
       "3    barrel (88) | barrels (25) | bartel (4) | barr...  \n",
       "4       bath (280) | bath- (6) | bate (1) | baixe (1)   \n",
       "..                                                 ...  \n",
       "134  vaults (93) | aults (19) | vauits (5) | vault ...  \n",
       "135  villa (277) | vilia (3) | vhla (3) | villan (2...  \n",
       "136  wardrubes (28) | wardrabes (25) | wardrube (19...  \n",
       "137  warehoufes (139) | warehoufe (123) | warehouse...  \n",
       "138  wafh-houfe (48) | wagh-house (11) | wash-house...  \n",
       "\n",
       "[139 rows x 4 columns]"
      ]
     },
     "execution_count": 12,
     "metadata": {},
     "output_type": "execute_result"
    }
   ],
   "source": [
    "obj_df = pd.read_excel('../annotations/objects_ADM.xlsx')\n",
    "obj_df['category'] = obj_df['category'].str.lower()\n",
    "obj_df"
   ]
  },
  {
   "cell_type": "code",
   "execution_count": 13,
   "id": "ideal-herald",
   "metadata": {},
   "outputs": [
    {
     "name": "stdout",
     "output_type": "stream",
     "text": [
      "{'animal accessories', 'accessories', 'real estate', 'appliances/utensils', 'instrument', 'clothing/fabrics', 'decoration', 'haberdashery', 'no', 'animal', 'furniture', 'tableware'}\n",
      "12\n"
     ]
    }
   ],
   "source": [
    "print(set(obj_df['category']))\n",
    "print(len(set(obj_df['category'])))"
   ]
  },
  {
   "cell_type": "code",
   "execution_count": 14,
   "id": "exterior-sucking",
   "metadata": {},
   "outputs": [],
   "source": [
    "obj_df2 = pd.read_excel('../annotations/objects_BS.xlsx')\n",
    "obj_df2['category'] = obj_df2['category'].str.lower()"
   ]
  },
  {
   "cell_type": "code",
   "execution_count": 15,
   "id": "exempt-sleeve",
   "metadata": {},
   "outputs": [
    {
     "name": "stdout",
     "output_type": "stream",
     "text": [
      "kappa: 0.8182214472537053\n"
     ]
    }
   ],
   "source": [
    "print('kappa:', cohen_kappa_score(obj_df['category'], obj_df2['category']))"
   ]
  },
  {
   "cell_type": "code",
   "execution_count": 16,
   "id": "finite-fundamental",
   "metadata": {},
   "outputs": [],
   "source": [
    "enc = LabelEncoder().fit(obj_df['category'])\n",
    "A_int = list(enc.transform(obj_df['category']))\n",
    "B_int = list(enc.transform(obj_df2['category']))\n",
    "cm = confusion_matrix(A_int, B_int)\n",
    "cf = pd.DataFrame(cm, columns=enc.classes_, index=enc.classes_)"
   ]
  },
  {
   "cell_type": "code",
   "execution_count": 17,
   "id": "crucial-shipping",
   "metadata": {},
   "outputs": [
    {
     "name": "stdout",
     "output_type": "stream",
     "text": [
      "\\begin{tabular}{lrrrrrrrrrrrr}\n",
      "\\toprule\n",
      "{} &  accessories &  animal &  animal accessories &  appliances/utensils &  clothing/fabrics &  decoration &  furniture &  haberdashery &  instrument &  no &  real estate &  tableware \\\\\n",
      "\\midrule\n",
      "accessories         &            5 &       0 &                   0 &                    0 &                 0 &           0 &          0 &             0 &           0 &   0 &            0 &          0 \\\\\n",
      "animal              &            0 &       2 &                   0 &                    0 &                 0 &           0 &          0 &             0 &           0 &   0 &            0 &          0 \\\\\n",
      "animal accessories  &            0 &       0 &                   2 &                    0 &                 0 &           0 &          0 &             0 &           0 &   0 &            0 &          0 \\\\\n",
      "appliances/utensils &            0 &       0 &                   0 &                    8 &                 0 &           0 &          0 &             0 &           0 &   0 &            0 &          0 \\\\\n",
      "clothing/fabrics    &            0 &       0 &                   0 &                    0 &                 5 &           0 &          1 &             1 &           0 &   0 &            1 &          0 \\\\\n",
      "decoration          &            1 &       0 &                   0 &                    3 &                 0 &          11 &          0 &             0 &           0 &   2 &            1 &          0 \\\\\n",
      "furniture           &            0 &       0 &                   0 &                    0 &                 0 &           0 &         24 &             0 &           0 &   1 &            0 &          0 \\\\\n",
      "haberdashery        &            0 &       0 &                   0 &                    0 &                 0 &           0 &          0 &             2 &           0 &   0 &            0 &          0 \\\\\n",
      "instrument          &            0 &       0 &                   0 &                    0 &                 0 &           0 &          0 &             0 &           4 &   0 &            0 &          0 \\\\\n",
      "no                  &            1 &       0 &                   0 &                    2 &                 0 &           0 &          0 &             0 &           0 &  10 &            1 &          0 \\\\\n",
      "real estate         &            0 &       0 &                   0 &                    2 &                 0 &           0 &          2 &             0 &           0 &   1 &           40 &          0 \\\\\n",
      "tableware           &            0 &       0 &                   0 &                    0 &                 0 &           0 &          0 &             0 &           1 &   0 &            0 &          5 \\\\\n",
      "\\bottomrule\n",
      "\\end{tabular}\n",
      "\n"
     ]
    }
   ],
   "source": [
    "print(cf.to_latex())"
   ]
  },
  {
   "cell_type": "markdown",
   "id": "wanted-rocket",
   "metadata": {},
   "source": [
    "In this case, the $\\kappa$ dropped a bit, but was still \"substantial\". Cases of disagreement were resolved:"
   ]
  },
  {
   "cell_type": "markdown",
   "id": "juvenile-department",
   "metadata": {},
   "source": [
    "The final (and relatively skewed) distribution of category labels over the 12 categories looks as follows:"
   ]
  },
  {
   "cell_type": "code",
   "execution_count": 18,
   "id": "tired-theater",
   "metadata": {},
   "outputs": [
    {
     "data": {
      "text/plain": [
       "real estate            46\n",
       "furniture              25\n",
       "decoration             18\n",
       "clothing/fabric        10\n",
       "appliances/utensils     9\n",
       "tableware               6\n",
       "accessories             5\n",
       "instrument              4\n",
       "animal/accessories      4\n",
       "Name: DEF, dtype: int64"
      ]
     },
     "execution_count": 18,
     "metadata": {},
     "output_type": "execute_result"
    }
   ],
   "source": [
    "obj_df = pd.read_excel('../annotations/objects_ADJ.xlsx')\n",
    "obj_df['DEF'] = obj_df['DEF'].str.lower()\n",
    "obj_df = obj_df[obj_df['DEF'] != 'no']\n",
    "obj_df['DEF'].value_counts()"
   ]
  },
  {
   "cell_type": "markdown",
   "id": "sitting-pleasure",
   "metadata": {},
   "source": [
    "We write this to LateX to include this information in the appendix:"
   ]
  },
  {
   "cell_type": "code",
   "execution_count": 19,
   "id": "mobile-situation",
   "metadata": {},
   "outputs": [
    {
     "name": "stdout",
     "output_type": "stream",
     "text": [
      "\\item[accessories] trinket - locket - bracelet - earring - jewellery\n",
      "\\item[animal/accessories] pony - horse - saddle - harness\n",
      "\\item[appliances/utensils] mangle - hearth - utensil - butts - fire-arm - pistol - stove - chimney - barrel\n",
      "\\item[clothing/fabric] matress - shawl - clothes - sheet - hose - mercery - habderdashery - counterpane - drapery - handkerchief\n",
      "\\item[decoration] books - candelabra - pillar - carpet - vase - candlestick - frame - picture - lustre - screen - globe - shell - boxes - plant - cut-glass - chimney-glass - chandelier - lamp\n",
      "\\item[furniture] cabinet-work - bookcase - press - bedstead - chest - pantry - couch - closet - canopy - sideboard - desk - cellarets - bureau - sofa - wardrobe - drawers - secretaire - commode - dining-tables - library-case - chaise - settee - chair - furniture - cabinet\n",
      "\\item[instrument] harpsichord - pianoforte - piano - instrument\n",
      "\\item[real estate] chamber - dining-room - lots - cellar - apartment - orchard - coach-house - farm-house - garret - timber - bath - farm-yard - warehouse - land - court - wash-house - drawing-room - stall - buildings - garden - stable - mansion-house - mansion - counting-house - stabling - brewhouse - residence - cistern - messuage - cellaring - hall - tenenement - attic - house - bedchamber - out-building - staircase - cottage - pipe - farm - estate - lawn - villa - dwelling-house - bed-room - premises\n",
      "\\item[tableware] dish - bottles - china - decanter - glasses - porcelain\n"
     ]
    }
   ],
   "source": [
    "for gr, grdf in obj_df.groupby('DEF'):\n",
    "    print(f'\\item[{gr}] ' + ' - '.join(set(grdf['headword'])))"
   ]
  },
  {
   "cell_type": "markdown",
   "id": "charitable-ideal",
   "metadata": {},
   "source": [
    "The final objects that we will use in this study were therefore, after excluding the not applicable category:"
   ]
  },
  {
   "cell_type": "code",
   "execution_count": 20,
   "id": "integrated-desktop",
   "metadata": {},
   "outputs": [
    {
     "name": "stdout",
     "output_type": "stream",
     "text": [
      "objects: apartment - attic - barrel - bath - bed-room - bedchamber - bedstead - bookcase - books - bottles - boxes - bracelet - brewhouse - buildings - bureau [...]\n"
     ]
    }
   ],
   "source": [
    "objects = sorted(set(obj_df[obj_df['modifier'] == 'OBJ']['headword']))\n",
    "print('objects:', ' - '.join(objects[:15]) + ' [...]')"
   ]
  },
  {
   "cell_type": "markdown",
   "id": "several-jefferson",
   "metadata": {},
   "source": [
    "We persist the objects and modifiers to disk as JSON for reuse in the subsequent notebooks:"
   ]
  },
  {
   "cell_type": "code",
   "execution_count": 21,
   "id": "normal-piece",
   "metadata": {},
   "outputs": [],
   "source": [
    "mod_lookup = {}\n",
    "for i, row in mod_df.iterrows():\n",
    "    mod_lookup[row['headword']] = row['DEF']\n",
    "\n",
    "with open('../annotations/modifiers.json', 'w') as f:\n",
    "    f.write(json.dumps(mod_lookup))"
   ]
  },
  {
   "cell_type": "code",
   "execution_count": 22,
   "id": "unlimited-growing",
   "metadata": {},
   "outputs": [],
   "source": [
    "obj_lookup = {}\n",
    "for i, row in obj_df.iterrows():\n",
    "    obj_lookup[row['headword']] = row['DEF']\n",
    "\n",
    "with open('../annotations/objects.json', 'w') as f:\n",
    "    f.write(json.dumps(obj_lookup))"
   ]
  }
 ],
 "metadata": {
  "kernelspec": {
   "display_name": "Python (n36)",
   "language": "python",
   "name": "n36"
  },
  "language_info": {
   "codemirror_mode": {
    "name": "ipython",
    "version": 3
   },
   "file_extension": ".py",
   "mimetype": "text/x-python",
   "name": "python",
   "nbconvert_exporter": "python",
   "pygments_lexer": "ipython3",
   "version": "3.6.10"
  }
 },
 "nbformat": 4,
 "nbformat_minor": 5
}

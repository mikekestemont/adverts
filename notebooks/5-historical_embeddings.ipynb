{
 "cells": [
  {
   "cell_type": "markdown",
   "id": "pending-nicaragua",
   "metadata": {},
   "source": [
    "# 5. Historical word embeddings"
   ]
  },
  {
   "cell_type": "code",
   "execution_count": null,
   "id": "studied-peeing",
   "metadata": {},
   "outputs": [],
   "source": [
    "import numpy as np\n",
    "import pandas as pd\n",
    "\n",
    "from gensim.models import FastText"
   ]
  },
  {
   "cell_type": "markdown",
   "id": "ready-commander",
   "metadata": {},
   "source": [
    "To improve the reproducibility of the embeddings (but only partially), we provide seeds:"
   ]
  },
  {
   "cell_type": "code",
   "execution_count": null,
   "id": "responsible-operations",
   "metadata": {},
   "outputs": [],
   "source": [
    "np.random.seed(76352)\n",
    "%env PYTHONHASHSEED=76352"
   ]
  },
  {
   "cell_type": "markdown",
   "id": "developed-recording",
   "metadata": {},
   "source": [
    "## Diachronic word embeddings"
   ]
  },
  {
   "cell_type": "code",
   "execution_count": null,
   "id": "clean-technical",
   "metadata": {},
   "outputs": [],
   "source": [
    "eras = []\n",
    "\n",
    "for fn in sorted(glob.glob('../data/eras_normalized/*.csv')):\n",
    "    print(fn)\n",
    "    eras.append(pd.read_csv(fn))"
   ]
  },
  {
   "cell_type": "code",
   "execution_count": null,
   "id": "graphic-effect",
   "metadata": {},
   "outputs": [],
   "source": [
    "mfi = 250\n",
    "seed = 12345\n",
    "num_clust = 8\n",
    "ft_size = 100\n",
    "fig_dir = 'output'\n",
    "model_dir = 'models'\n",
    "num_era_neighbors = 100"
   ]
  },
  {
   "cell_type": "code",
   "execution_count": null,
   "id": "interim-fundamental",
   "metadata": {},
   "outputs": [],
   "source": [
    "pca = PCA(n_components=30, random_state=seed)\n",
    "tsne = TSNE(n_components=2, random_state=seed)"
   ]
  },
  {
   "cell_type": "markdown",
   "id": "supported-albert",
   "metadata": {},
   "source": [
    "Base model is last model!"
   ]
  },
  {
   "cell_type": "code",
   "execution_count": null,
   "id": "necessary-kitty",
   "metadata": {},
   "outputs": [],
   "source": [
    "base_cnt = Counter(eras[-1]['normalized'])\n",
    "mfi = [i for i, _ in base_cnt.most_common(mfi)]\n",
    "print('Most frequent items (base model):', mfi)"
   ]
  },
  {
   "cell_type": "code",
   "execution_count": null,
   "id": "spectacular-photography",
   "metadata": {},
   "outputs": [],
   "source": [
    "def extract_windows(era):\n",
    "    windows = []\n",
    "    tokens = tuple(era['normalized'])\n",
    "    si, ei = 0, rnd_window_size\n",
    "    while ei <= len(tokens):\n",
    "        windows.append(tokens[si:ei])\n",
    "        si += rnd_window_size\n",
    "        ei += rnd_window_size\n",
    "    return windows"
   ]
  },
  {
   "cell_type": "code",
   "execution_count": null,
   "id": "burning-boulder",
   "metadata": {},
   "outputs": [],
   "source": [
    "models = []\n",
    "for era in eras:\n",
    "    windows = extract_windows(era)\n",
    "    print(len(windows))\n",
    "    model = FastText(min_count=min_count, vector_size=vector_size,\n",
    "              sentences=windows, epochs=n_epochs, seed=65973273)\n",
    "    models.append(model)"
   ]
  },
  {
   "cell_type": "code",
   "execution_count": null,
   "id": "perceived-riverside",
   "metadata": {},
   "outputs": [],
   "source": [
    "# align each era with the base model:\n",
    "for idx, model in enumerate(models):\n",
    "    print(idx)\n",
    "    if idx == len(models)-1:  # skip base model\n",
    "        break\n",
    "    models[idx] = procrustes.smart_procrustes_align_gensim(models[-1], model)"
   ]
  },
  {
   "cell_type": "code",
   "execution_count": null,
   "id": "collective-complex",
   "metadata": {},
   "outputs": [],
   "source": [
    "trg = 'valuable'\n",
    "\n",
    "# collect all nearest neighbors across models\n",
    "neighborhoods = []\n",
    "for model in models:\n",
    "    neighbors = model.wv.most_similar(trg, topn=num_era_neighbors)\n",
    "    print(neighbors)\n",
    "    neighbors = [w for w, s in neighbors]\n",
    "    neighborhoods.append(neighbors)\n",
    "\n",
    "all_neighbors = tuple(set([w for hood in neighborhoods for w in hood]))\n",
    "all_neighbors"
   ]
  },
  {
   "cell_type": "code",
   "execution_count": null,
   "id": "israeli-exploration",
   "metadata": {},
   "outputs": [],
   "source": [
    "# collect base vectors for the flattened neighborhood:\n",
    "X, labels = [], []\n",
    "for nn in all_neighbors:\n",
    "    X.append(models[-1].wv[nn])\n",
    "    labels.append(nn)"
   ]
  },
  {
   "cell_type": "code",
   "execution_count": null,
   "id": "stylish-archives",
   "metadata": {},
   "outputs": [],
   "source": [
    "# collect model-specific vectors for neighborhood words:\n",
    "arrow_idxs = []\n",
    "for idx, model in enumerate(models):\n",
    "    X.append(model.wv[trg])\n",
    "    labels.append(trg + '\\nSP' + str(idx + 1))\n",
    "    arrow_idxs.append(len(labels) - 1)"
   ]
  },
  {
   "cell_type": "code",
   "execution_count": null,
   "id": "collectible-uniform",
   "metadata": {},
   "outputs": [],
   "source": [
    "X = np.array(X)\n",
    "pca_X = pca.fit_transform(X)\n",
    "tsne_X = tsne.fit_transform(pca_X)"
   ]
  },
  {
   "cell_type": "code",
   "execution_count": null,
   "id": "balanced-earth",
   "metadata": {},
   "outputs": [],
   "source": [
    "fig, ax1 = plt.subplots(figsize=(14, 14))\n",
    "ax1.axis('equal')\n",
    "    \n",
    "x1, x2 = tsne_X[:, 0], tsne_X[:, 1]\n",
    "ax1.scatter(x1, x2, edgecolors='none', facecolors='none')\n",
    "for x, y, w in zip(x1, x2, labels):\n",
    "    if w.startswith(trg + '\\n'):\n",
    "        ax1.text(x, y, w, ha='center', va=\"center\",\n",
    "                 color='red')\n",
    "        circle = plt.Circle((x, y), radius=1,\n",
    "                            facecolor='lightgrey',\n",
    "                            edgecolor='grey',\n",
    "                            alpha=.9)\n",
    "        ax1.add_artist(circle)\n",
    "    else:\n",
    "        ax1.text(x, y, w, ha='center', va=\"center\",\n",
    "                     color='black')\n",
    "    \n",
    "    plt.title(trg, fontdict={'family': 'Arial', 'size': 32})\n",
    "\n",
    "    for idx, arrow in enumerate(arrow_idxs[::-1]):\n",
    "        if idx == len(arrow_idxs) - 1:\n",
    "            break\n",
    "        ax1.annotate('', xy=tsne_X[arrow_idxs[idx + 1]], xytext=tsne_X[arrow_idxs[idx]],\n",
    "                 arrowprops=dict(facecolor='darkgrey', shrink=0.05,\n",
    "                                 width=2, headwidth=12, edgecolor=None))"
   ]
  }
 ],
 "metadata": {
  "kernelspec": {
   "display_name": "Python (n36)",
   "language": "python",
   "name": "n36"
  },
  "language_info": {
   "codemirror_mode": {
    "name": "ipython",
    "version": 3
   },
   "file_extension": ".py",
   "mimetype": "text/x-python",
   "name": "python",
   "nbconvert_exporter": "python",
   "pygments_lexer": "ipython3",
   "version": "3.6.10"
  }
 },
 "nbformat": 4,
 "nbformat_minor": 5
}

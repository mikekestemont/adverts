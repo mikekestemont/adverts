{
 "cells": [
  {
   "cell_type": "code",
   "execution_count": 7,
   "metadata": {},
   "outputs": [],
   "source": [
    "import shutil\n",
    "import os\n",
    "import glob\n",
    "\n",
    "from bs4 import BeautifulSoup as bs\n",
    "import bs4\n",
    "\n",
    "import pandas as pd"
   ]
  },
  {
   "cell_type": "code",
   "execution_count": 8,
   "metadata": {},
   "outputs": [],
   "source": [
    "outdir = '../spreadsheets'\n",
    "try:\n",
    "    shutil.rmtree(outdir)\n",
    "except FileNotFoundError:\n",
    "    pass\n",
    "os.mkdir('../spreadsheets')"
   ]
  },
  {
   "cell_type": "code",
   "execution_count": 11,
   "metadata": {},
   "outputs": [],
   "source": [
    "def parse_node(node):\n",
    "    if node.name == 'note':\n",
    "        return None, None, None\n",
    "    try:\n",
    "        tag = node['ana']\n",
    "    except KeyError:\n",
    "        return None, None, None\n",
    "    \n",
    "    type_ = 'object'\n",
    "    if '#descriptor' in tag.lower():\n",
    "        type_ = 'descriptor'\n",
    "        tag = tag.replace('#Descriptor', '').replace('#descriptor', '')\n",
    "        tag = tag.strip().replace('#', '')\n",
    "    \n",
    "    # unpoack into token-tag-type-tuples:\n",
    "    # 1. mark start of an ad:\n",
    "    tokens, tags = [], []\n",
    "    if '#begin' in tag:\n",
    "        tokens = node.text.split()\n",
    "        tags = ['O'] * len(tokens)\n",
    "        tags[0] = 'B'\n",
    "        types = ['NA'] * len(tokens)\n",
    "        types[0] = 'begin'        \n",
    "        return tokens, types, tags\n",
    "    else:\n",
    "        tokens = node.text.split()\n",
    "        tags = [tag.replace('#', '')] * len(tokens)\n",
    "        types = [type_] * len(tokens)\n",
    "        return tokens, types, tags\n",
    "\n",
    "for fn in sorted(glob.glob('../data/annotations/*.xml')):\n",
    "    with open(fn) as f:\n",
    "        annotation = bs(f.read(), \"lxml\").find('text')\n",
    "        \n",
    "    tokens, tags, types = [], [], []\n",
    "    for div in annotation.find_all('div'):\n",
    "        for ad in div:\n",
    "            for node in ad:\n",
    "                if isinstance(node, bs4.element.NavigableString):\n",
    "                    tokens_ = str(node).split()\n",
    "                    types_ = tags_ = ['NA'] * len(tokens_)\n",
    "                    tags_ = ['O'] * len(tokens_)\n",
    "                elif isinstance(node, bs4.element.Tag):\n",
    "                    tokens_, types_, tags_ = parse_node(node)\n",
    "\n",
    "                if not tokens_:\n",
    "                    continue\n",
    "                #print(tokens_, tags_)\n",
    "                #assert len(tokens_) == len(tags_)\n",
    "\n",
    "                tokens.extend(tokens_)\n",
    "                types.extend(types_)\n",
    "                tags.extend(tags_)    \n",
    "    \n",
    "    df = pd.DataFrame(zip(tokens, types, tags),\n",
    "                      columns=['tokens', 'types', 'tags'])\n",
    "    f_out = os.path.basename(fn).replace('.xml', '')\n",
    "    df.to_excel(f'{outdir}/{f_out}.xlsx')"
   ]
  },
  {
   "cell_type": "code",
   "execution_count": null,
   "metadata": {},
   "outputs": [],
   "source": []
  },
  {
   "cell_type": "code",
   "execution_count": null,
   "metadata": {},
   "outputs": [],
   "source": []
  }
 ],
 "metadata": {
  "kernelspec": {
   "display_name": "Python (n36)",
   "language": "python",
   "name": "n36"
  },
  "language_info": {
   "codemirror_mode": {
    "name": "ipython",
    "version": 3
   },
   "file_extension": ".py",
   "mimetype": "text/x-python",
   "name": "python",
   "nbconvert_exporter": "python",
   "pygments_lexer": "ipython3",
   "version": "3.6.10"
  }
 },
 "nbformat": 4,
 "nbformat_minor": 5
}
